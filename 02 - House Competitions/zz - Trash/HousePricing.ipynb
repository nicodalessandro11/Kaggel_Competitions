{
 "cells": [
  {
   "cell_type": "markdown",
   "metadata": {},
   "source": [
    "# House Prices: Advanced Regression Techniques\n",
    "\n",
    "Predict sales prices and practice feature engineering, RFs, and gradient boosting"
   ]
  },
  {
   "cell_type": "markdown",
   "metadata": {},
   "source": [
    "<img src=\"housesbanner.png\"  align=\"left\" style=\"width: 600px;\"/>"
   ]
  },
  {
   "cell_type": "markdown",
   "metadata": {},
   "source": [
    "<span style=\"font-family: Courier New; background-color: #ffcc5c; color: #000000; padding: 3px; \">Performed by:</span> Nicolás D'Alessandro"
   ]
  },
  {
   "cell_type": "markdown",
   "metadata": {},
   "source": [
    "______"
   ]
  },
  {
   "cell_type": "markdown",
   "metadata": {},
   "source": [
    "### 00 - Load the required libraries"
   ]
  },
  {
   "cell_type": "code",
   "execution_count": 2,
   "metadata": {},
   "outputs": [],
   "source": [
    "import warnings\n",
    "warnings.filterwarnings('ignore')"
   ]
  },
  {
   "cell_type": "code",
   "execution_count": 3,
   "metadata": {},
   "outputs": [],
   "source": [
    "import pandas as pd\n",
    "import numpy as np\n",
    "import matplotlib.pyplot as plt\n",
    "import seaborn as sns\n",
    "import kbasics as k\n",
    "\n",
    "from sklearn.metrics import mean_absolute_error\n",
    "from sklearn.model_selection import train_test_split\n",
    "from sklearn import preprocessing\n",
    "from sklearn.ensemble import RandomForestRegressor\n",
    "from sklearn.preprocessing import OneHotEncoder\n",
    "from sklearn.impute import SimpleImputer\n",
    "from sklearn.preprocessing import LabelEncoder\n",
    "from xgboost import XGBRegressor\n",
    "from sklearn.ensemble import RandomForestClassifier\n",
    "from sklearn.feature_selection import SelectKBest\n",
    "from sklearn.feature_selection import chi2\n",
    "from sklearn import linear_model\n",
    "from catboost import CatBoostRegressor"
   ]
  },
  {
   "cell_type": "markdown",
   "metadata": {},
   "source": [
    "____"
   ]
  },
  {
   "cell_type": "markdown",
   "metadata": {},
   "source": [
    "### 00 - Create required formulas"
   ]
  },
  {
   "cell_type": "code",
   "execution_count": 4,
   "metadata": {},
   "outputs": [],
   "source": [
    "def describe(data):\n",
    "    '''\n",
    "    This function displays a basic description about the numerical features in the given dataset:\n",
    "        >>> Parameter 1: [DataFrame] Pandas DataFrame.\n",
    "        ------------------------------------------------\n",
    "        <<< Return: Dataset basic description.\n",
    "    '''\n",
    "    print('\\033[1m' + 'Numerical values description:'+ '\\033[0m')\n",
    "    \n",
    "    return data.describe().round(2)\n",
    "\n",
    "def nullvaluesf_count(data):\n",
    "    '''\n",
    "    This function displays the features that contains null values as well as the correspondig count:\n",
    "        >>> Parameter 1: [DataFrame] Pandas DataFrame.\n",
    "        ------------------------------------------------\n",
    "        <<< Return: Features with null values and count.\n",
    "    '''\n",
    "    print('\\033[1m' + 'Top 10 Features with null values:'+ '\\033[0m')\n",
    "\n",
    "    total = data.isnull().sum().sort_values(ascending = False)\n",
    "    percent = (data.isnull().sum()/data.isnull().count()*100).sort_values(ascending = False)\n",
    "    missing__train_data  = pd.concat([total, percent], axis=1, keys=['Total', 'Percent'])\n",
    "    missing__train_data.head(10)\n",
    "        \n",
    "    return missing__train_data.head(10)\n",
    "\n",
    "def categorical_info(data):\n",
    "    '''\n",
    "    This function displays name and count of unique values of the categorical features in the given dataset:\n",
    "        >>> Parameter 1: [DataFrame] Pandas DataFrame.\n",
    "        ------------------------------------------------\n",
    "        <<< Return: Categorical features and count uniques\n",
    "    '''\n",
    "    print('\\033[1m' + 'Categorical features counts:' + '\\033[0m')\n",
    "    \n",
    "    return data.select_dtypes(include= 'object').apply(lambda x: x.count())\n",
    "\n",
    "\n",
    "def create_boxplot(dataset):\n",
    "    '''\n",
    "       This function plot boxplot for each column of the given dataset:\n",
    "        >>> Parameter 1: [DataFrame] Pandas DataFrame.\n",
    "        ------------------------------------------------\n",
    "        <<< Return: Plot.\n",
    "    \n",
    "    '''\n",
    "    fig = plt.figure(figsize=(15,6))\n",
    "    ax = sns.boxplot(data = dataset)\n",
    "    plt.xticks(rotation=90)"
   ]
  },
  {
   "cell_type": "code",
   "execution_count": 5,
   "metadata": {},
   "outputs": [],
   "source": [
    "def MAE_dataset_lm(X_train, X_valid, y_train, y_valid):\n",
    "    '''\n",
    "            This function displays the MAE for the given datasets:\n",
    "        >>> Parameter 1: [DataFrame] X_train.\n",
    "        >>> Parameter 2: [DataFrame] X_valid.\n",
    "        >>> Parameter 3: [DataFrame] y_train.\n",
    "        >>> Parameter 4: [DataFrame] y_valid.\n",
    "        ------------------------------------------------\n",
    "        <<< Return: MAE on top of the given predictions. -\n",
    "        '''\n",
    "    \n",
    "    lm = linear_model.LinearRegression()\n",
    "    lm.fit(X_train, y_train)\n",
    "    preds_lm = lm.predict(X_valid)\n",
    "    \n",
    "    print('\\033[1m' + 'MAE from Imputation:'+ '\\033[0m')\n",
    "    \n",
    "    return mean_absolute_error(y_valid, preds_lm)\n",
    "\n",
    "\n",
    "def MAE_dataset_rf(X_train, X_valid, y_train, y_valid):\n",
    "    '''\n",
    "            This function displays the MAE for the given datasets:\n",
    "        >>> Parameter 1: [DataFrame] X_train.\n",
    "        >>> Parameter 2: [DataFrame] X_valid.\n",
    "        >>> Parameter 3: [DataFrame] y_train.\n",
    "        >>> Parameter 4: [DataFrame] y_valid.\n",
    "        ------------------------------------------------\n",
    "        <<< Return: MAE on top of the given predictions. -\n",
    "        '''\n",
    "    rf = RandomForestRegressor(n_estimators=100, random_state=0)\n",
    "    rf.fit(X_train, y_train)\n",
    "    preds_rf = rf.predict(X_valid)\n",
    "    \n",
    "    print('\\033[1m' + 'MAE from Imputation:'+ '\\033[0m')\n",
    "    \n",
    "    return mean_absolute_error(y_valid, preds_rf)\n",
    "\n",
    "def MAE_dataset_XGB(X_train, X_valid, y_train, y_valid):\n",
    "    '''\n",
    "            This function displays the MAE for the given datasets:\n",
    "        >>> Parameter 1: [DataFrame] X_train\n",
    "        >>> Parameter 2: [DataFrame] X_valid.\n",
    "        >>> Parameter 3: [DataFrame] y_train.\n",
    "        >>> Parameter 4: [DataFrame] y_valid.\n",
    "        ------------------------------------------------\n",
    "        <<< Return: MAE on top of the given predictions. -\n",
    "    '''\n",
    "    XGB = XGBRegressor(n_estimators=1000, learning_rate=0.05, silent=True)\n",
    "    XGB.fit(X_train, y_train)\n",
    "    preds_XGB = XGB.predict(X_valid)\n",
    "    \n",
    "    print('\\033[1m' + 'MAE from Imputation:'+ '\\033[0m')\n",
    "    \n",
    "    return mean_absolute_error(y_valid, preds_XGB)\n",
    "\n",
    "def MAE_dataset_cbr(X_train, X_valid, y_train, y_valid):\n",
    "    '''\n",
    "            This function displays the MAE for the given datasets:\n",
    "        >>> Parameter 1: [DataFrame] X_train\n",
    "        >>> Parameter 2: [DataFrame] X_valid.\n",
    "        >>> Parameter 3: [DataFrame] y_train.\n",
    "        >>> Parameter 4: [DataFrame] y_valid.\n",
    "        ------------------------------------------------\n",
    "        <<< Return: MAE on top of the given predictions. -\n",
    "    '''\n",
    "    cbr = CatBoostRegressor(verbose=False)\n",
    "    cbr.fit(X_train, y_train)\n",
    "    preds_cbr = cbr.predict(X_valid)\n",
    "    \n",
    "    print('\\033[1m' + 'MAE from Imputation:'+ '\\033[0m')\n",
    "    \n",
    "    return mean_absolute_error(y_valid, preds_cbr)"
   ]
  },
  {
   "cell_type": "markdown",
   "metadata": {},
   "source": [
    "___"
   ]
  },
  {
   "cell_type": "markdown",
   "metadata": {},
   "source": [
    "### 01 - Load the given datasets"
   ]
  },
  {
   "cell_type": "code",
   "execution_count": 6,
   "metadata": {
    "scrolled": true
   },
   "outputs": [],
   "source": [
    "df_train = pd.read_csv('train.csv')\n",
    "df_test = pd.read_csv('test.csv')"
   ]
  },
  {
   "cell_type": "markdown",
   "metadata": {},
   "source": [
    "____"
   ]
  },
  {
   "cell_type": "markdown",
   "metadata": {},
   "source": [
    "### 02 - Perform EDA on the loaded datasets"
   ]
  },
  {
   "cell_type": "code",
   "execution_count": 7,
   "metadata": {},
   "outputs": [
    {
     "name": "stdout",
     "output_type": "stream",
     "text": [
      "\u001b[1mNumerical values description:\u001b[0m\n"
     ]
    },
    {
     "data": {
      "text/html": [
       "<div>\n",
       "<style scoped>\n",
       "    .dataframe tbody tr th:only-of-type {\n",
       "        vertical-align: middle;\n",
       "    }\n",
       "\n",
       "    .dataframe tbody tr th {\n",
       "        vertical-align: top;\n",
       "    }\n",
       "\n",
       "    .dataframe thead th {\n",
       "        text-align: right;\n",
       "    }\n",
       "</style>\n",
       "<table border=\"1\" class=\"dataframe\">\n",
       "  <thead>\n",
       "    <tr style=\"text-align: right;\">\n",
       "      <th></th>\n",
       "      <th>Id</th>\n",
       "      <th>MSSubClass</th>\n",
       "      <th>LotFrontage</th>\n",
       "      <th>LotArea</th>\n",
       "      <th>OverallQual</th>\n",
       "      <th>OverallCond</th>\n",
       "      <th>YearBuilt</th>\n",
       "      <th>YearRemodAdd</th>\n",
       "      <th>MasVnrArea</th>\n",
       "      <th>BsmtFinSF1</th>\n",
       "      <th>...</th>\n",
       "      <th>WoodDeckSF</th>\n",
       "      <th>OpenPorchSF</th>\n",
       "      <th>EnclosedPorch</th>\n",
       "      <th>3SsnPorch</th>\n",
       "      <th>ScreenPorch</th>\n",
       "      <th>PoolArea</th>\n",
       "      <th>MiscVal</th>\n",
       "      <th>MoSold</th>\n",
       "      <th>YrSold</th>\n",
       "      <th>SalePrice</th>\n",
       "    </tr>\n",
       "  </thead>\n",
       "  <tbody>\n",
       "    <tr>\n",
       "      <th>count</th>\n",
       "      <td>1460.00</td>\n",
       "      <td>1460.0</td>\n",
       "      <td>1201.00</td>\n",
       "      <td>1460.00</td>\n",
       "      <td>1460.00</td>\n",
       "      <td>1460.00</td>\n",
       "      <td>1460.00</td>\n",
       "      <td>1460.00</td>\n",
       "      <td>1452.00</td>\n",
       "      <td>1460.00</td>\n",
       "      <td>...</td>\n",
       "      <td>1460.00</td>\n",
       "      <td>1460.00</td>\n",
       "      <td>1460.00</td>\n",
       "      <td>1460.00</td>\n",
       "      <td>1460.00</td>\n",
       "      <td>1460.00</td>\n",
       "      <td>1460.00</td>\n",
       "      <td>1460.00</td>\n",
       "      <td>1460.00</td>\n",
       "      <td>1460.0</td>\n",
       "    </tr>\n",
       "    <tr>\n",
       "      <th>mean</th>\n",
       "      <td>730.50</td>\n",
       "      <td>56.9</td>\n",
       "      <td>70.05</td>\n",
       "      <td>10516.83</td>\n",
       "      <td>6.10</td>\n",
       "      <td>5.58</td>\n",
       "      <td>1971.27</td>\n",
       "      <td>1984.87</td>\n",
       "      <td>103.69</td>\n",
       "      <td>443.64</td>\n",
       "      <td>...</td>\n",
       "      <td>94.24</td>\n",
       "      <td>46.66</td>\n",
       "      <td>21.95</td>\n",
       "      <td>3.41</td>\n",
       "      <td>15.06</td>\n",
       "      <td>2.76</td>\n",
       "      <td>43.49</td>\n",
       "      <td>6.32</td>\n",
       "      <td>2007.82</td>\n",
       "      <td>180921.2</td>\n",
       "    </tr>\n",
       "    <tr>\n",
       "      <th>std</th>\n",
       "      <td>421.61</td>\n",
       "      <td>42.3</td>\n",
       "      <td>24.28</td>\n",
       "      <td>9981.26</td>\n",
       "      <td>1.38</td>\n",
       "      <td>1.11</td>\n",
       "      <td>30.20</td>\n",
       "      <td>20.65</td>\n",
       "      <td>181.07</td>\n",
       "      <td>456.10</td>\n",
       "      <td>...</td>\n",
       "      <td>125.34</td>\n",
       "      <td>66.26</td>\n",
       "      <td>61.12</td>\n",
       "      <td>29.32</td>\n",
       "      <td>55.76</td>\n",
       "      <td>40.18</td>\n",
       "      <td>496.12</td>\n",
       "      <td>2.70</td>\n",
       "      <td>1.33</td>\n",
       "      <td>79442.5</td>\n",
       "    </tr>\n",
       "    <tr>\n",
       "      <th>min</th>\n",
       "      <td>1.00</td>\n",
       "      <td>20.0</td>\n",
       "      <td>21.00</td>\n",
       "      <td>1300.00</td>\n",
       "      <td>1.00</td>\n",
       "      <td>1.00</td>\n",
       "      <td>1872.00</td>\n",
       "      <td>1950.00</td>\n",
       "      <td>0.00</td>\n",
       "      <td>0.00</td>\n",
       "      <td>...</td>\n",
       "      <td>0.00</td>\n",
       "      <td>0.00</td>\n",
       "      <td>0.00</td>\n",
       "      <td>0.00</td>\n",
       "      <td>0.00</td>\n",
       "      <td>0.00</td>\n",
       "      <td>0.00</td>\n",
       "      <td>1.00</td>\n",
       "      <td>2006.00</td>\n",
       "      <td>34900.0</td>\n",
       "    </tr>\n",
       "    <tr>\n",
       "      <th>25%</th>\n",
       "      <td>365.75</td>\n",
       "      <td>20.0</td>\n",
       "      <td>59.00</td>\n",
       "      <td>7553.50</td>\n",
       "      <td>5.00</td>\n",
       "      <td>5.00</td>\n",
       "      <td>1954.00</td>\n",
       "      <td>1967.00</td>\n",
       "      <td>0.00</td>\n",
       "      <td>0.00</td>\n",
       "      <td>...</td>\n",
       "      <td>0.00</td>\n",
       "      <td>0.00</td>\n",
       "      <td>0.00</td>\n",
       "      <td>0.00</td>\n",
       "      <td>0.00</td>\n",
       "      <td>0.00</td>\n",
       "      <td>0.00</td>\n",
       "      <td>5.00</td>\n",
       "      <td>2007.00</td>\n",
       "      <td>129975.0</td>\n",
       "    </tr>\n",
       "    <tr>\n",
       "      <th>50%</th>\n",
       "      <td>730.50</td>\n",
       "      <td>50.0</td>\n",
       "      <td>69.00</td>\n",
       "      <td>9478.50</td>\n",
       "      <td>6.00</td>\n",
       "      <td>5.00</td>\n",
       "      <td>1973.00</td>\n",
       "      <td>1994.00</td>\n",
       "      <td>0.00</td>\n",
       "      <td>383.50</td>\n",
       "      <td>...</td>\n",
       "      <td>0.00</td>\n",
       "      <td>25.00</td>\n",
       "      <td>0.00</td>\n",
       "      <td>0.00</td>\n",
       "      <td>0.00</td>\n",
       "      <td>0.00</td>\n",
       "      <td>0.00</td>\n",
       "      <td>6.00</td>\n",
       "      <td>2008.00</td>\n",
       "      <td>163000.0</td>\n",
       "    </tr>\n",
       "    <tr>\n",
       "      <th>75%</th>\n",
       "      <td>1095.25</td>\n",
       "      <td>70.0</td>\n",
       "      <td>80.00</td>\n",
       "      <td>11601.50</td>\n",
       "      <td>7.00</td>\n",
       "      <td>6.00</td>\n",
       "      <td>2000.00</td>\n",
       "      <td>2004.00</td>\n",
       "      <td>166.00</td>\n",
       "      <td>712.25</td>\n",
       "      <td>...</td>\n",
       "      <td>168.00</td>\n",
       "      <td>68.00</td>\n",
       "      <td>0.00</td>\n",
       "      <td>0.00</td>\n",
       "      <td>0.00</td>\n",
       "      <td>0.00</td>\n",
       "      <td>0.00</td>\n",
       "      <td>8.00</td>\n",
       "      <td>2009.00</td>\n",
       "      <td>214000.0</td>\n",
       "    </tr>\n",
       "    <tr>\n",
       "      <th>max</th>\n",
       "      <td>1460.00</td>\n",
       "      <td>190.0</td>\n",
       "      <td>313.00</td>\n",
       "      <td>215245.00</td>\n",
       "      <td>10.00</td>\n",
       "      <td>9.00</td>\n",
       "      <td>2010.00</td>\n",
       "      <td>2010.00</td>\n",
       "      <td>1600.00</td>\n",
       "      <td>5644.00</td>\n",
       "      <td>...</td>\n",
       "      <td>857.00</td>\n",
       "      <td>547.00</td>\n",
       "      <td>552.00</td>\n",
       "      <td>508.00</td>\n",
       "      <td>480.00</td>\n",
       "      <td>738.00</td>\n",
       "      <td>15500.00</td>\n",
       "      <td>12.00</td>\n",
       "      <td>2010.00</td>\n",
       "      <td>755000.0</td>\n",
       "    </tr>\n",
       "  </tbody>\n",
       "</table>\n",
       "<p>8 rows × 38 columns</p>\n",
       "</div>"
      ],
      "text/plain": [
       "            Id  MSSubClass  LotFrontage    LotArea  OverallQual  OverallCond  \\\n",
       "count  1460.00      1460.0      1201.00    1460.00      1460.00      1460.00   \n",
       "mean    730.50        56.9        70.05   10516.83         6.10         5.58   \n",
       "std     421.61        42.3        24.28    9981.26         1.38         1.11   \n",
       "min       1.00        20.0        21.00    1300.00         1.00         1.00   \n",
       "25%     365.75        20.0        59.00    7553.50         5.00         5.00   \n",
       "50%     730.50        50.0        69.00    9478.50         6.00         5.00   \n",
       "75%    1095.25        70.0        80.00   11601.50         7.00         6.00   \n",
       "max    1460.00       190.0       313.00  215245.00        10.00         9.00   \n",
       "\n",
       "       YearBuilt  YearRemodAdd  MasVnrArea  BsmtFinSF1  ...  WoodDeckSF  \\\n",
       "count    1460.00       1460.00     1452.00     1460.00  ...     1460.00   \n",
       "mean     1971.27       1984.87      103.69      443.64  ...       94.24   \n",
       "std        30.20         20.65      181.07      456.10  ...      125.34   \n",
       "min      1872.00       1950.00        0.00        0.00  ...        0.00   \n",
       "25%      1954.00       1967.00        0.00        0.00  ...        0.00   \n",
       "50%      1973.00       1994.00        0.00      383.50  ...        0.00   \n",
       "75%      2000.00       2004.00      166.00      712.25  ...      168.00   \n",
       "max      2010.00       2010.00     1600.00     5644.00  ...      857.00   \n",
       "\n",
       "       OpenPorchSF  EnclosedPorch  3SsnPorch  ScreenPorch  PoolArea   MiscVal  \\\n",
       "count      1460.00        1460.00    1460.00      1460.00   1460.00   1460.00   \n",
       "mean         46.66          21.95       3.41        15.06      2.76     43.49   \n",
       "std          66.26          61.12      29.32        55.76     40.18    496.12   \n",
       "min           0.00           0.00       0.00         0.00      0.00      0.00   \n",
       "25%           0.00           0.00       0.00         0.00      0.00      0.00   \n",
       "50%          25.00           0.00       0.00         0.00      0.00      0.00   \n",
       "75%          68.00           0.00       0.00         0.00      0.00      0.00   \n",
       "max         547.00         552.00     508.00       480.00    738.00  15500.00   \n",
       "\n",
       "        MoSold   YrSold  SalePrice  \n",
       "count  1460.00  1460.00     1460.0  \n",
       "mean      6.32  2007.82   180921.2  \n",
       "std       2.70     1.33    79442.5  \n",
       "min       1.00  2006.00    34900.0  \n",
       "25%       5.00  2007.00   129975.0  \n",
       "50%       6.00  2008.00   163000.0  \n",
       "75%       8.00  2009.00   214000.0  \n",
       "max      12.00  2010.00   755000.0  \n",
       "\n",
       "[8 rows x 38 columns]"
      ]
     },
     "execution_count": 7,
     "metadata": {},
     "output_type": "execute_result"
    }
   ],
   "source": [
    "describe(df_train)"
   ]
  },
  {
   "cell_type": "code",
   "execution_count": 8,
   "metadata": {},
   "outputs": [
    {
     "name": "stdout",
     "output_type": "stream",
     "text": [
      "\u001b[1mCategorical features counts:\u001b[0m\n"
     ]
    },
    {
     "data": {
      "text/plain": [
       "MSZoning        1460\n",
       "Street          1460\n",
       "Alley             91\n",
       "LotShape        1460\n",
       "LandContour     1460\n",
       "Utilities       1460\n",
       "LotConfig       1460\n",
       "LandSlope       1460\n",
       "Neighborhood    1460\n",
       "Condition1      1460\n",
       "dtype: int64"
      ]
     },
     "execution_count": 8,
     "metadata": {},
     "output_type": "execute_result"
    }
   ],
   "source": [
    "categorical_info(df_train).head(10)"
   ]
  },
  {
   "cell_type": "code",
   "execution_count": 9,
   "metadata": {},
   "outputs": [
    {
     "name": "stdout",
     "output_type": "stream",
     "text": [
      "\u001b[1mTop 10 Features with null values:\u001b[0m\n"
     ]
    },
    {
     "data": {
      "text/html": [
       "<div>\n",
       "<style scoped>\n",
       "    .dataframe tbody tr th:only-of-type {\n",
       "        vertical-align: middle;\n",
       "    }\n",
       "\n",
       "    .dataframe tbody tr th {\n",
       "        vertical-align: top;\n",
       "    }\n",
       "\n",
       "    .dataframe thead th {\n",
       "        text-align: right;\n",
       "    }\n",
       "</style>\n",
       "<table border=\"1\" class=\"dataframe\">\n",
       "  <thead>\n",
       "    <tr style=\"text-align: right;\">\n",
       "      <th></th>\n",
       "      <th>PoolQC</th>\n",
       "      <th>MiscFeature</th>\n",
       "      <th>Alley</th>\n",
       "      <th>Fence</th>\n",
       "      <th>FireplaceQu</th>\n",
       "      <th>LotFrontage</th>\n",
       "      <th>GarageCond</th>\n",
       "      <th>GarageType</th>\n",
       "      <th>GarageYrBlt</th>\n",
       "      <th>GarageFinish</th>\n",
       "    </tr>\n",
       "  </thead>\n",
       "  <tbody>\n",
       "    <tr>\n",
       "      <th>Total</th>\n",
       "      <td>1453.000000</td>\n",
       "      <td>1406.00000</td>\n",
       "      <td>1369.000000</td>\n",
       "      <td>1179.000000</td>\n",
       "      <td>690.000000</td>\n",
       "      <td>259.000000</td>\n",
       "      <td>81.000000</td>\n",
       "      <td>81.000000</td>\n",
       "      <td>81.000000</td>\n",
       "      <td>81.000000</td>\n",
       "    </tr>\n",
       "    <tr>\n",
       "      <th>Percent</th>\n",
       "      <td>99.520548</td>\n",
       "      <td>96.30137</td>\n",
       "      <td>93.767123</td>\n",
       "      <td>80.753425</td>\n",
       "      <td>47.260274</td>\n",
       "      <td>17.739726</td>\n",
       "      <td>5.547945</td>\n",
       "      <td>5.547945</td>\n",
       "      <td>5.547945</td>\n",
       "      <td>5.547945</td>\n",
       "    </tr>\n",
       "  </tbody>\n",
       "</table>\n",
       "</div>"
      ],
      "text/plain": [
       "              PoolQC  MiscFeature        Alley        Fence  FireplaceQu  \\\n",
       "Total    1453.000000   1406.00000  1369.000000  1179.000000   690.000000   \n",
       "Percent    99.520548     96.30137    93.767123    80.753425    47.260274   \n",
       "\n",
       "         LotFrontage  GarageCond  GarageType  GarageYrBlt  GarageFinish  \n",
       "Total     259.000000   81.000000   81.000000    81.000000     81.000000  \n",
       "Percent    17.739726    5.547945    5.547945     5.547945      5.547945  "
      ]
     },
     "execution_count": 9,
     "metadata": {},
     "output_type": "execute_result"
    }
   ],
   "source": [
    "df_nulls = nullvaluesf_count(df_train).transpose()\n",
    "df_nulls "
   ]
  },
  {
   "cell_type": "code",
   "execution_count": 10,
   "metadata": {},
   "outputs": [
    {
     "data": {
      "image/png": "[encoded data removed]",
      "text/plain": [
       "<Figure size 1080x432 with 1 Axes>"
      ]
     },
     "metadata": {
      "needs_background": "light"
     },
     "output_type": "display_data"
    }
   ],
   "source": [
    "create_boxplot(df_nulls)"
   ]
  },
  {
   "cell_type": "markdown",
   "metadata": {},
   "source": [
    "____"
   ]
  },
  {
   "cell_type": "markdown",
   "metadata": {},
   "source": [
    "### 03 - Feature Engineering"
   ]
  },
  {
   "cell_type": "markdown",
   "metadata": {},
   "source": [
    "#### a - Remove rows & columns"
   ]
  },
  {
   "cell_type": "code",
   "execution_count": 11,
   "metadata": {},
   "outputs": [],
   "source": [
    "#remove rows with missing target and \n",
    "df_train.dropna(axis=0, subset=['SalePrice'], inplace=True)"
   ]
  },
  {
   "cell_type": "code",
   "execution_count": 12,
   "metadata": {},
   "outputs": [],
   "source": [
    "#separate target from predictors\n",
    "df_target = df_train['SalePrice']\n",
    "df_train = df_train.drop(['SalePrice'], axis=1)"
   ]
  },
  {
   "cell_type": "code",
   "execution_count": 13,
   "metadata": {},
   "outputs": [],
   "source": [
    "#remove columns with null values\n",
    "df_train.drop(['PoolQC',\"MiscFeature\",\"Alley\",\"Fence\",\"FireplaceQu\"], axis=1, inplace=True)\n",
    "df_test.drop(['PoolQC',\"MiscFeature\",\"Alley\",\"Fence\",\"FireplaceQu\"], axis=1, inplace=True)"
   ]
  },
  {
   "cell_type": "markdown",
   "metadata": {},
   "source": [
    "#### b - Train test split"
   ]
  },
  {
   "cell_type": "code",
   "execution_count": 14,
   "metadata": {},
   "outputs": [],
   "source": [
    "#break off validation set from training data\n",
    "X_train, X_valid, y_train, y_valid = train_test_split(df_train, df_target,\n",
    "                                                      train_size=0.8, test_size=0.2,\n",
    "                                                      random_state=0)"
   ]
  },
  {
   "cell_type": "code",
   "execution_count": 18,
   "metadata": {},
   "outputs": [
    {
     "data": {
      "text/plain": [
       "13"
      ]
     },
     "execution_count": 18,
     "metadata": {},
     "output_type": "execute_result"
    }
   ],
   "source": [
    "X_valid.isna().any().sum()"
   ]
  },
  {
   "cell_type": "code",
   "execution_count": 17,
   "metadata": {},
   "outputs": [
    {
     "data": {
      "text/plain": [
       "(292, 75)"
      ]
     },
     "execution_count": 17,
     "metadata": {},
     "output_type": "execute_result"
    }
   ],
   "source": [
    "X_valid.shape"
   ]
  },
  {
   "cell_type": "markdown",
   "metadata": {},
   "source": [
    "### 04 - Create & Evaluate Models"
   ]
  },
  {
   "cell_type": "markdown",
   "metadata": {},
   "source": [
    "#### a - Performing Imputations"
   ]
  },
  {
   "cell_type": "code",
   "execution_count": 19,
   "metadata": {},
   "outputs": [],
   "source": [
    "# Get list of categorical variables\n",
    "s = (df_train.dtypes == 'object')\n",
    "object_cols = list(s[s].index)\n",
    "\n",
    "# Remove categorical columns\n",
    "num_X_train = X_train.drop(object_cols, axis=1)\n",
    "num_X_valid = X_valid.drop(object_cols, axis=1)\n",
    "num_df_test = df_test.drop(object_cols, axis=1)\n",
    "\n",
    "# Remove Ids\n",
    "num_X_train.drop(['Id',\"MoSold\",\"YrSold\"], axis=1, inplace=True)\n",
    "num_X_valid.drop(['Id',\"MoSold\",\"YrSold\"], axis=1, inplace=True)\n",
    "num_df_test.drop(['Id',\"MoSold\",\"YrSold\"], axis=1, inplace=True)\n",
    "\n",
    "# Imputation\n",
    "my_imputer = SimpleImputer(strategy=\"constant\",fill_value=0)\n",
    "imputed_X_train = pd.DataFrame(my_imputer.fit_transform(num_X_train))\n",
    "imputed_X_valid = pd.DataFrame(my_imputer.transform(num_X_valid))\n",
    "imputed_df_test = pd.DataFrame(my_imputer.transform(num_df_test))\n",
    "\n",
    "# Imputation removed column names; put them back\n",
    "imputed_X_train.columns = num_X_train.columns\n",
    "imputed_X_valid.columns = num_X_valid.columns\n",
    "imputed_df_test.columns = num_df_test.columns"
   ]
  },
  {
   "cell_type": "code",
   "execution_count": 181,
   "metadata": {},
   "outputs": [
    {
     "name": "stdout",
     "output_type": "stream",
     "text": [
      "\u001b[1mMAE from Imputation:\u001b[0m\n"
     ]
    },
    {
     "data": {
      "text/plain": [
       "23541.831020204372"
      ]
     },
     "execution_count": 181,
     "metadata": {},
     "output_type": "execute_result"
    }
   ],
   "source": [
    "MAE_dataset_lm(imputed_X_train, imputed_X_valid, y_train, y_valid)"
   ]
  },
  {
   "cell_type": "code",
   "execution_count": 182,
   "metadata": {},
   "outputs": [
    {
     "name": "stdout",
     "output_type": "stream",
     "text": [
      "\u001b[1mMAE from Imputation:\u001b[0m\n"
     ]
    },
    {
     "data": {
      "text/plain": [
       "17631.113000326157"
      ]
     },
     "execution_count": 182,
     "metadata": {},
     "output_type": "execute_result"
    }
   ],
   "source": [
    "MAE_dataset_rf(imputed_X_train, imputed_X_valid, y_train, y_valid)"
   ]
  },
  {
   "cell_type": "code",
   "execution_count": 294,
   "metadata": {},
   "outputs": [
    {
     "name": "stdout",
     "output_type": "stream",
     "text": [
      "\u001b[1mMAE from Imputation:\u001b[0m\n"
     ]
    },
    {
     "data": {
      "text/plain": [
       "16467.03205265411"
      ]
     },
     "execution_count": 294,
     "metadata": {},
     "output_type": "execute_result"
    }
   ],
   "source": [
    "MAE_dataset_XGB(imputed_X_train, imputed_X_valid, y_train, y_valid)"
   ]
  },
  {
   "cell_type": "code",
   "execution_count": 287,
   "metadata": {},
   "outputs": [
    {
     "name": "stdout",
     "output_type": "stream",
     "text": [
      "\u001b[1mMAE from Imputation:\u001b[0m\n"
     ]
    },
    {
     "data": {
      "text/plain": [
       "16944.212443624176"
      ]
     },
     "execution_count": 287,
     "metadata": {},
     "output_type": "execute_result"
    }
   ],
   "source": [
    "MAE_dataset_cbr(imputed_X_train, imputed_X_valid, y_train, y_valid)"
   ]
  },
  {
   "cell_type": "markdown",
   "metadata": {},
   "source": [
    "#### b - Regarding Features Cardinality"
   ]
  },
  {
   "cell_type": "code",
   "execution_count": 185,
   "metadata": {},
   "outputs": [],
   "source": [
    "# Get list of categorical variables\n",
    "s = (X_train.dtypes == 'object')\n",
    "object_cols = list(s[s].index)\n",
    "\n",
    "# Get list of numerical variables\n",
    "s = (X_train.dtypes != 'object')\n",
    "num_cols = list(s[s].index)\n",
    "\n",
    "# Remove numerical columns\n",
    "cat_X_train = X_train.drop(num_cols, axis=1)\n",
    "cat_X_valid = X_valid.drop(num_cols, axis=1)\n",
    "cat_df_test = df_test.drop(num_cols, axis=1)\n",
    "\n",
    "# Imputation\n",
    "my_imputer = SimpleImputer(strategy=\"constant\",fill_value=\"non\")\n",
    "imputed_cat_X_train = pd.DataFrame(my_imputer.fit_transform(cat_X_train))\n",
    "imputed_cat_X_valid = pd.DataFrame(my_imputer.transform(cat_X_valid))\n",
    "imputed_cat_df_test = pd.DataFrame(my_imputer.transform(cat_df_test))\n",
    "\n",
    "# Imputation removed column names; put them back\n",
    "imputed_cat_X_train.columns = cat_X_train.columns\n",
    "imputed_cat_X_valid.columns = cat_X_valid.columns\n",
    "imputed_cat_df_test.columns = cat_df_test.columns"
   ]
  },
  {
   "cell_type": "code",
   "execution_count": 187,
   "metadata": {},
   "outputs": [
    {
     "name": "stdout",
     "output_type": "stream",
     "text": [
      "\u001b[1mCategorical columns that will be one-hot encoded:\n",
      "\n",
      "\u001b[0m ['MSZoning', 'Street', 'LotShape', 'LandContour', 'Utilities', 'LotConfig', 'LandSlope', 'Condition1', 'Condition2', 'BldgType', 'HouseStyle', 'RoofStyle', 'RoofMatl', 'MasVnrType', 'ExterQual', 'ExterCond', 'Foundation', 'BsmtQual', 'BsmtCond', 'BsmtExposure', 'BsmtFinType1', 'BsmtFinType2', 'Heating', 'HeatingQC', 'CentralAir', 'Electrical', 'KitchenQual', 'Functional', 'GarageType', 'GarageFinish', 'GarageQual', 'GarageCond', 'PavedDrive', 'SaleType', 'SaleCondition']\n"
     ]
    }
   ],
   "source": [
    "# Columns that will be one-hot encoded\n",
    "low_cardinality_cols = [col for col in object_cols if imputed_cat_X_train[col].nunique() < 10]\n",
    "\n",
    "print('\\033[1m' + 'Categorical columns that will be one-hot encoded:\\n\\n'+ '\\033[0m', low_cardinality_cols)"
   ]
  },
  {
   "cell_type": "code",
   "execution_count": 188,
   "metadata": {},
   "outputs": [
    {
     "name": "stdout",
     "output_type": "stream",
     "text": [
      "\u001b[1mCategorical columns that will be dropped from the dataset:\n",
      "\n",
      "\u001b[0m ['Neighborhood', 'Exterior1st', 'Exterior2nd']\n"
     ]
    }
   ],
   "source": [
    "# Columns that will be dropped from the dataset\n",
    "high_cardinality_cols = list(set(object_cols)-set(low_cardinality_cols))\n",
    "\n",
    "print('\\033[1m' + 'Categorical columns that will be dropped from the dataset:\\n\\n' + '\\033[0m', high_cardinality_cols)"
   ]
  },
  {
   "cell_type": "markdown",
   "metadata": {},
   "source": [
    "#### d - Performing Different Encodings"
   ]
  },
  {
   "cell_type": "markdown",
   "metadata": {},
   "source": [
    "# Label encode high cardinality\n",
    "label_X_train = imputed_cat_X_train.copy()\n",
    "label_X_valid = imputed_cat_X_valid.copy()\n",
    "label_df_test = imputed_cat_df_test.copy()\n",
    "XXXX = pd.concat([imputed_cat_X_train, imputed_cat_df_test], ignore_index=True)\n",
    "\n",
    "# Apply label encoder to each column with categorical data\n",
    "\n",
    "label_encoder = LabelEncoder()\n",
    "for col in high_cardinality_cols:\n",
    "    XXXX[col] = label_encoder.fit_transform(XXXX[col])\n",
    "    label_X_train[col] = label_encoder.transform(imputed_cat_X_train[col])\n",
    "    label_X_valid[col] = label_encoder.transform(imputed_cat_X_valid[col])\n",
    "    label_df_test[col] = label_encoder.transform(imputed_cat_df_test[col])\n",
    "    \n",
    "    # Get list of categorical variables\n",
    "s = (label_X_train.dtypes == 'object')\n",
    "object_cols = list(s[s].index)\n",
    "\n",
    "# Apply one-hot encoder to each column with low cardinality categorical data, drop rest\n",
    "\n",
    "OH_encoder = OneHotEncoder(handle_unknown='ignore', sparse=False)\n",
    "OH_cols_train = pd.DataFrame(OH_encoder.fit_transform(imputed_cat_X_train[low_cardinality_cols]))\n",
    "OH_cols_valid = pd.DataFrame(OH_encoder.transform(imputed_cat_X_valid[low_cardinality_cols]))\n",
    "OH_cols_test = pd.DataFrame(OH_encoder.transform(imputed_cat_df_test[low_cardinality_cols]))\n",
    "\n",
    "# Add one-hot encoded columns to numerical imputed features\n",
    "OH_X_train = pd.concat([imputed_X_train, OH_cols_train], axis=1)\n",
    "OH_X_valid = pd.concat([imputed_X_valid, OH_cols_valid], axis=1)\n",
    "OH_df_test = pd.concat([imputed_df_test, OH_cols_test], axis=1)"
   ]
  },
  {
   "cell_type": "markdown",
   "metadata": {},
   "source": [
    "# ***PENDIENTE: Método \"on the fly\""
   ]
  },
  {
   "cell_type": "code",
   "execution_count": 191,
   "metadata": {},
   "outputs": [
    {
     "name": "stdout",
     "output_type": "stream",
     "text": [
      "\u001b[1mMAE from Imputation:\u001b[0m\n"
     ]
    },
    {
     "data": {
      "text/plain": [
       "23612.613414362895"
      ]
     },
     "execution_count": 191,
     "metadata": {},
     "output_type": "execute_result"
    }
   ],
   "source": [
    "MAE_dataset_lm(OH_X_train, OH_X_valid, y_train, y_valid)"
   ]
  },
  {
   "cell_type": "code",
   "execution_count": 192,
   "metadata": {},
   "outputs": [
    {
     "name": "stdout",
     "output_type": "stream",
     "text": [
      "\u001b[1mMAE from Imputation:\u001b[0m\n"
     ]
    },
    {
     "data": {
      "text/plain": [
       "17187.956301369864"
      ]
     },
     "execution_count": 192,
     "metadata": {},
     "output_type": "execute_result"
    }
   ],
   "source": [
    "MAE_dataset_rf(OH_X_train, OH_X_valid, y_train, y_valid)"
   ]
  },
  {
   "cell_type": "code",
   "execution_count": 295,
   "metadata": {},
   "outputs": [
    {
     "name": "stdout",
     "output_type": "stream",
     "text": [
      "\u001b[1mMAE from Imputation:\u001b[0m\n"
     ]
    },
    {
     "data": {
      "text/plain": [
       "16129.61354880137"
      ]
     },
     "execution_count": 295,
     "metadata": {},
     "output_type": "execute_result"
    }
   ],
   "source": [
    "MAE_dataset_XGB(OH_X_train, OH_X_valid, y_train, y_valid)"
   ]
  },
  {
   "cell_type": "code",
   "execution_count": 289,
   "metadata": {},
   "outputs": [
    {
     "name": "stdout",
     "output_type": "stream",
     "text": [
      "\u001b[1mMAE from Imputation:\u001b[0m\n"
     ]
    },
    {
     "data": {
      "text/plain": [
       "15833.10193456811"
      ]
     },
     "execution_count": 289,
     "metadata": {},
     "output_type": "execute_result"
    }
   ],
   "source": [
    "MAE_dataset_cbr(OH_X_train, OH_X_valid, y_train, y_valid)"
   ]
  },
  {
   "cell_type": "markdown",
   "metadata": {},
   "source": [
    "#### e - Regarding feature importances"
   ]
  },
  {
   "cell_type": "code",
   "execution_count": 195,
   "metadata": {},
   "outputs": [],
   "source": [
    "#random forest classifier with n_estimators=10 (default)\n",
    "clf_rf = RandomForestClassifier(random_state=43)      \n",
    "clr_rf = clf_rf.fit(OH_X_train,y_train)\n",
    "\n",
    "clf_rf_5 = RandomForestClassifier()      \n",
    "clr_rf_5 = clf_rf_5.fit(OH_X_train,y_train)\n",
    "importances = clr_rf_5.feature_importances_\n",
    "\n",
    "std = np.std([tree.feature_importances_ for tree in clf_rf.estimators_],\n",
    "             axis=0)\n",
    "\n",
    "indices = np.argsort(importances)[::-1]"
   ]
  },
  {
   "cell_type": "code",
   "execution_count": 196,
   "metadata": {},
   "outputs": [],
   "source": [
    "#print and plot the feature importance top 15 ranking\n",
    "\n",
    "def feature_imp_rank(data):\n",
    "    feature_importance = {}\n",
    "    for f in range(data.shape[1]):\n",
    "        feature_importance[\"feature_%d\" % (indices[f])] = importances[indices[f]].round(6)\n",
    "    \n",
    "    df = pd.DataFrame([[key, feature_importance[key]] for key in feature_importance.keys()],\n",
    "                      columns=['feature', 'importance'])\n",
    "    \n",
    "    f_i = df.head(15)\n",
    "\n",
    "    print('\\033[1m' + 'Feature ranking:\\n\\n' + '\\033[0m')\n",
    "    \n",
    "    plt.figure(figsize=(10, 4))\n",
    "    plt.title(\"Feature Importances\", fontsize = 15)\n",
    "    sns.barplot(f_i['feature'], f_i['importance'])\n",
    "    plt.xticks(rotation=90)\n",
    "    \n",
    "    display(f_i)\n",
    "\n",
    "    return plt.show()"
   ]
  },
  {
   "cell_type": "code",
   "execution_count": 197,
   "metadata": {},
   "outputs": [
    {
     "name": "stdout",
     "output_type": "stream",
     "text": [
      "\u001b[1mFeature ranking:\n",
      "\n",
      "\u001b[0m\n"
     ]
    },
    {
     "data": {
      "text/html": [
       "<div>\n",
       "<style scoped>\n",
       "    .dataframe tbody tr th:only-of-type {\n",
       "        vertical-align: middle;\n",
       "    }\n",
       "\n",
       "    .dataframe tbody tr th {\n",
       "        vertical-align: top;\n",
       "    }\n",
       "\n",
       "    .dataframe thead th {\n",
       "        text-align: right;\n",
       "    }\n",
       "</style>\n",
       "<table border=\"1\" class=\"dataframe\">\n",
       "  <thead>\n",
       "    <tr style=\"text-align: right;\">\n",
       "      <th></th>\n",
       "      <th>feature</th>\n",
       "      <th>importance</th>\n",
       "    </tr>\n",
       "  </thead>\n",
       "  <tbody>\n",
       "    <tr>\n",
       "      <th>0</th>\n",
       "      <td>feature_2</td>\n",
       "      <td>0.034062</td>\n",
       "    </tr>\n",
       "    <tr>\n",
       "      <th>1</th>\n",
       "      <td>feature_12</td>\n",
       "      <td>0.033336</td>\n",
       "    </tr>\n",
       "    <tr>\n",
       "      <th>2</th>\n",
       "      <td>feature_15</td>\n",
       "      <td>0.031979</td>\n",
       "    </tr>\n",
       "    <tr>\n",
       "      <th>3</th>\n",
       "      <td>feature_10</td>\n",
       "      <td>0.031968</td>\n",
       "    </tr>\n",
       "    <tr>\n",
       "      <th>4</th>\n",
       "      <td>feature_26</td>\n",
       "      <td>0.031391</td>\n",
       "    </tr>\n",
       "    <tr>\n",
       "      <th>5</th>\n",
       "      <td>feature_11</td>\n",
       "      <td>0.031347</td>\n",
       "    </tr>\n",
       "    <tr>\n",
       "      <th>6</th>\n",
       "      <td>feature_5</td>\n",
       "      <td>0.029593</td>\n",
       "    </tr>\n",
       "    <tr>\n",
       "      <th>7</th>\n",
       "      <td>feature_1</td>\n",
       "      <td>0.028423</td>\n",
       "    </tr>\n",
       "    <tr>\n",
       "      <th>8</th>\n",
       "      <td>feature_6</td>\n",
       "      <td>0.027526</td>\n",
       "    </tr>\n",
       "    <tr>\n",
       "      <th>9</th>\n",
       "      <td>feature_24</td>\n",
       "      <td>0.027388</td>\n",
       "    </tr>\n",
       "    <tr>\n",
       "      <th>10</th>\n",
       "      <td>feature_8</td>\n",
       "      <td>0.026154</td>\n",
       "    </tr>\n",
       "    <tr>\n",
       "      <th>11</th>\n",
       "      <td>feature_28</td>\n",
       "      <td>0.023009</td>\n",
       "    </tr>\n",
       "    <tr>\n",
       "      <th>12</th>\n",
       "      <td>feature_27</td>\n",
       "      <td>0.021348</td>\n",
       "    </tr>\n",
       "    <tr>\n",
       "      <th>13</th>\n",
       "      <td>feature_22</td>\n",
       "      <td>0.021100</td>\n",
       "    </tr>\n",
       "    <tr>\n",
       "      <th>14</th>\n",
       "      <td>feature_7</td>\n",
       "      <td>0.019173</td>\n",
       "    </tr>\n",
       "  </tbody>\n",
       "</table>\n",
       "</div>"
      ],
      "text/plain": [
       "       feature  importance\n",
       "0    feature_2    0.034062\n",
       "1   feature_12    0.033336\n",
       "2   feature_15    0.031979\n",
       "3   feature_10    0.031968\n",
       "4   feature_26    0.031391\n",
       "5   feature_11    0.031347\n",
       "6    feature_5    0.029593\n",
       "7    feature_1    0.028423\n",
       "8    feature_6    0.027526\n",
       "9   feature_24    0.027388\n",
       "10   feature_8    0.026154\n",
       "11  feature_28    0.023009\n",
       "12  feature_27    0.021348\n",
       "13  feature_22    0.021100\n",
       "14   feature_7    0.019173"
      ]
     },
     "metadata": {},
     "output_type": "display_data"
    },
    {
     "data": {
      "image/png": "[encoded data removed]",
      "text/plain": [
       "<Figure size 720x288 with 1 Axes>"
      ]
     },
     "metadata": {
      "needs_background": "light"
     },
     "output_type": "display_data"
    }
   ],
   "source": [
    "feature_imp_rank(OH_X_train)"
   ]
  },
  {
   "cell_type": "code",
   "execution_count": 198,
   "metadata": {},
   "outputs": [],
   "source": [
    "# find best scored 11 features\n",
    "select_feature = SelectKBest(chi2, k=11).fit(OH_X_train, y_train)"
   ]
  },
  {
   "cell_type": "markdown",
   "metadata": {},
   "source": [
    "#####  - Find low importance features"
   ]
  },
  {
   "cell_type": "code",
   "execution_count": 199,
   "metadata": {},
   "outputs": [
    {
     "name": "stdout",
     "output_type": "stream",
     "text": [
      "\u001b[1mSelected Features:\n",
      "\n",
      "\u001b[0m ['LotArea', 'MasVnrArea', 'BsmtFinSF1', 'BsmtFinSF2', 'BsmtUnfSF', 'TotalBsmtSF', '2ndFlrSF', 'LowQualFinSF', 'GrLivArea', 'WoodDeckSF', '3SsnPorch', 'ScreenPorch', 'PoolArea', 'MiscVal']\n"
     ]
    }
   ],
   "source": [
    "#selection 1\n",
    "selectedfeatures1=[]\n",
    "for i in range(219):\n",
    "    if (select_feature.scores_[i]>1.000e+05):\n",
    "        selectedfeatures1.append(OH_X_train.columns[i])\n",
    "        \n",
    "print('\\033[1m' + 'Selected Features:\\n\\n'+ '\\033[0m', selectedfeatures1)\n",
    "\n",
    "# drop low importance features\n",
    "X_TrainSelected1=OH_X_train[selectedfeatures1]\n",
    "X_ValidSelected1=OH_X_valid[selectedfeatures1]"
   ]
  },
  {
   "cell_type": "code",
   "execution_count": 200,
   "metadata": {},
   "outputs": [
    {
     "name": "stdout",
     "output_type": "stream",
     "text": [
      "\u001b[1mMAE from Imputation:\u001b[0m\n"
     ]
    },
    {
     "data": {
      "text/plain": [
       "31930.14654332605"
      ]
     },
     "execution_count": 200,
     "metadata": {},
     "output_type": "execute_result"
    }
   ],
   "source": [
    "MAE_dataset_lm(X_TrainSelected1, X_ValidSelected1, y_train, y_valid)"
   ]
  },
  {
   "cell_type": "code",
   "execution_count": 201,
   "metadata": {},
   "outputs": [
    {
     "name": "stdout",
     "output_type": "stream",
     "text": [
      "\u001b[1mMAE from Imputation:\u001b[0m\n"
     ]
    },
    {
     "data": {
      "text/plain": [
       "27012.79339041096"
      ]
     },
     "execution_count": 201,
     "metadata": {},
     "output_type": "execute_result"
    }
   ],
   "source": [
    "MAE_dataset_rf(X_TrainSelected1, X_ValidSelected1, y_train, y_valid)"
   ]
  },
  {
   "cell_type": "code",
   "execution_count": 296,
   "metadata": {},
   "outputs": [
    {
     "name": "stdout",
     "output_type": "stream",
     "text": [
      "\u001b[1mMAE from Imputation:\u001b[0m\n"
     ]
    },
    {
     "data": {
      "text/plain": [
       "28275.736261237158"
      ]
     },
     "execution_count": 296,
     "metadata": {},
     "output_type": "execute_result"
    }
   ],
   "source": [
    "MAE_dataset_XGB(X_TrainSelected1, X_ValidSelected1, y_train, y_valid)"
   ]
  },
  {
   "cell_type": "code",
   "execution_count": 203,
   "metadata": {},
   "outputs": [
    {
     "name": "stdout",
     "output_type": "stream",
     "text": [
      "\u001b[1mMAE from Imputation:\u001b[0m\n"
     ]
    },
    {
     "data": {
      "text/plain": [
       "26731.09055731105"
      ]
     },
     "execution_count": 203,
     "metadata": {},
     "output_type": "execute_result"
    }
   ],
   "source": [
    "MAE_dataset_cbr(X_TrainSelected1, X_ValidSelected1, y_train, y_valid)"
   ]
  },
  {
   "cell_type": "code",
   "execution_count": 204,
   "metadata": {},
   "outputs": [
    {
     "name": "stdout",
     "output_type": "stream",
     "text": [
      "\u001b[1mSelected Features:\n",
      "\n",
      "\u001b[0m ['MSSubClass', 'LotFrontage', 'LotArea', 'OverallQual', 'OverallCond', 'YearBuilt', 'YearRemodAdd', 'MasVnrArea', 'BsmtFinSF1', 'BsmtUnfSF', 'TotalBsmtSF', '1stFlrSF', '2ndFlrSF', 'GrLivArea', 'BedroomAbvGr', 'TotRmsAbvGrd', 'Fireplaces', 'GarageYrBlt', 'GarageArea', 'WoodDeckSF', 'OpenPorchSF']\n"
     ]
    }
   ],
   "source": [
    "#selection 2\n",
    "selectedfeatures2=[]\n",
    "for i in range(219):\n",
    "    if (importances[i]>0.01):\n",
    "        selectedfeatures2.append(OH_X_train.columns[i])\n",
    "\n",
    "print('\\033[1m' + 'Selected Features:\\n\\n'+ '\\033[0m', selectedfeatures2)\n",
    "\n",
    "# drop low importance features\n",
    "X_TrainSelected2=OH_X_train[selectedfeatures2]\n",
    "X_ValidSelected2=OH_X_valid[selectedfeatures2]"
   ]
  },
  {
   "cell_type": "code",
   "execution_count": 205,
   "metadata": {},
   "outputs": [
    {
     "name": "stdout",
     "output_type": "stream",
     "text": [
      "\u001b[1mMAE from Imputation:\u001b[0m\n"
     ]
    },
    {
     "data": {
      "text/plain": [
       "23748.040878246327"
      ]
     },
     "execution_count": 205,
     "metadata": {},
     "output_type": "execute_result"
    }
   ],
   "source": [
    "MAE_dataset_lm(X_TrainSelected2, X_ValidSelected2, y_train, y_valid)"
   ]
  },
  {
   "cell_type": "code",
   "execution_count": 206,
   "metadata": {},
   "outputs": [
    {
     "name": "stdout",
     "output_type": "stream",
     "text": [
      "\u001b[1mMAE from Imputation:\u001b[0m\n"
     ]
    },
    {
     "data": {
      "text/plain": [
       "18066.313349641227"
      ]
     },
     "execution_count": 206,
     "metadata": {},
     "output_type": "execute_result"
    }
   ],
   "source": [
    "MAE_dataset_rf(X_TrainSelected2, X_ValidSelected2, y_train, y_valid)"
   ]
  },
  {
   "cell_type": "code",
   "execution_count": 297,
   "metadata": {},
   "outputs": [
    {
     "name": "stdout",
     "output_type": "stream",
     "text": [
      "\u001b[1mMAE from Imputation:\u001b[0m\n"
     ]
    },
    {
     "data": {
      "text/plain": [
       "17344.54633989726"
      ]
     },
     "execution_count": 297,
     "metadata": {},
     "output_type": "execute_result"
    }
   ],
   "source": [
    "MAE_dataset_XGB(X_TrainSelected2, X_ValidSelected2, y_train, y_valid)"
   ]
  },
  {
   "cell_type": "code",
   "execution_count": 208,
   "metadata": {},
   "outputs": [
    {
     "name": "stdout",
     "output_type": "stream",
     "text": [
      "\u001b[1mMAE from Imputation:\u001b[0m\n"
     ]
    },
    {
     "data": {
      "text/plain": [
       "17060.000931744693"
      ]
     },
     "execution_count": 208,
     "metadata": {},
     "output_type": "execute_result"
    }
   ],
   "source": [
    "MAE_dataset_cbr(X_TrainSelected2, X_ValidSelected2, y_train, y_valid)"
   ]
  },
  {
   "cell_type": "code",
   "execution_count": null,
   "metadata": {},
   "outputs": [],
   "source": [
    "kk"
   ]
  },
  {
   "cell_type": "markdown",
   "metadata": {},
   "source": [
    "#### f - Using Random Forest to select best features"
   ]
  },
  {
   "cell_type": "raw",
   "metadata": {},
   "source": [
    "selectedfeaturesX=[]\n",
    "MAEX=[]\n",
    "BestMAEX=999999\n",
    "bestfeatures=[]\n",
    "\n",
    "for i in range(219):\n",
    "    selectedfeaturesX.append(OH_X_train.columns[indices[i]])\n",
    "    # drop low importance features\n",
    "    X_TrainSelectedX=OH_X_train[selectedfeaturesX]\n",
    "    X_ValidSelectedX=OH_X_valid[selectedfeaturesX]\n",
    "    modelX = XGBRegressor(n_estimators=1000, learning_rate=0.05)\n",
    "    modelX.fit(X_TrainSelectedX, y_train)\n",
    "    predsX = modelX.predict(X_ValidSelectedX)\n",
    "    MAEX.append(mean_absolute_error(y_valid, predsX))\n",
    "    if mean_absolute_error(y_valid, predsX)<BestMAEX:\n",
    "        BestMAEX=mean_absolute_error(y_valid, predsX)\n",
    "        bestfeatures=selectedfeaturesX"
   ]
  },
  {
   "cell_type": "code",
   "execution_count": 1,
   "metadata": {},
   "outputs": [],
   "source": [
    "bestfeatures = ['GrLivArea', 'LotArea', '1stFlrSF', 'TotalBsmtSF', 'BsmtUnfSF', 'GarageArea', 'YearBuilt', 'GarageYrBlt', 'LotFrontage', 'YearRemodAdd', 'BsmtFinSF1', 'OpenPorchSF', 'WoodDeckSF', 'TotRmsAbvGrd', 'MasVnrArea', '2ndFlrSF', 'OverallQual', 'OverallCond', 'BedroomAbvGr', 'MSSubClass', 'Fireplaces', 'BsmtFullBath', 'EnclosedPorch', 'GarageCars', 99, 21, 10, 7, 152, 17, 'HalfBath', 'BsmtFinSF2', 103, 'ScreenPorch', 67, 121, 106, 151, 54, 145, 'FullBath', 68, 153, 125, 56, 123, 81, 96, 137, 88, 136, 149, 47, 101, 183, 50, 3, 82, 27, 89, 98, 74, 73, 102, 97, 77, 79, 113, 94, 178, 69, 105, 40, 4, 179, 14, 'MiscVal', 18, 'BsmtHalfBath', 45, 26, 132, 86, 92, 44, 19, 147, 104, 80, 184, 22, 128, 111, 1, 176, 134, 167, 169, 159, '3SsnPorch', 52, 12, 143, 170, 23, 8, 165, 122, 112, 126, 25, 91, 11, 109, 43, 'LowQualFinSF', 127, 31, 'KitchenAbvGr', 156, 135, 141, 29, 140, 160, 51, 168, 42, 87, 138, 13, 116, 150, 162, 46, 2, 108, 41, 76, 71, 182, 59, 129, 30, 154, 146, 166, 66, 70, 117, 110, 114, 142, 163, 9, 24, 55, 95, 100, 83, 57, 49, 53, 118, 65, 174, 157, 72, 90, 0, 107, 28, 181, 6, 144, 84, 173, 33, 63, 175, 48, 64, 148, 161, 164, 180, 158, 36, 32, 172, 130, 35, 177, 'PoolArea', 75, 5, 120, 139, 78, 124, 133, 93, 155, 171, 115, 62, 20, 15, 119, 39, 16, 60, 61, 131, 58, 85, 34, 38, 37]"
   ]
  },
  {
   "cell_type": "code",
   "execution_count": 2,
   "metadata": {},
   "outputs": [
    {
     "name": "stdout",
     "output_type": "stream",
     "text": [
      "\u001b[1mSelected Features:\n",
      "\n",
      "\u001b[0m ['GrLivArea', 'LotArea', '1stFlrSF', 'TotalBsmtSF', 'BsmtUnfSF', 'GarageArea', 'YearBuilt', 'GarageYrBlt', 'LotFrontage', 'YearRemodAdd', 'BsmtFinSF1', 'OpenPorchSF', 'WoodDeckSF', 'TotRmsAbvGrd', 'MasVnrArea', '2ndFlrSF', 'OverallQual', 'OverallCond', 'BedroomAbvGr', 'MSSubClass', 'Fireplaces', 'BsmtFullBath', 'EnclosedPorch', 'GarageCars', 99, 21, 10, 7, 152, 17, 'HalfBath', 'BsmtFinSF2', 103, 'ScreenPorch', 67, 121, 106, 151, 54, 145, 'FullBath', 68, 153, 125, 56, 123, 81, 96, 137, 88, 136, 149, 47, 101, 183, 50, 3, 82, 27, 89, 98, 74, 73, 102, 97, 77, 79, 113, 94, 178, 69, 105, 40, 4, 179, 14, 'MiscVal', 18, 'BsmtHalfBath', 45, 26, 132, 86, 92, 44, 19, 147, 104, 80, 184, 22, 128, 111, 1, 176, 134, 167, 169, 159, '3SsnPorch', 52, 12, 143, 170, 23, 8, 165, 122, 112, 126, 25, 91, 11, 109, 43, 'LowQualFinSF', 127, 31, 'KitchenAbvGr', 156, 135, 141, 29, 140, 160, 51, 168, 42, 87, 138, 13, 116, 150, 162, 46, 2, 108, 41, 76, 71, 182, 59, 129, 30, 154, 146, 166, 66, 70, 117, 110, 114, 142, 163, 9, 24, 55, 95, 100, 83, 57, 49, 53, 118, 65, 174, 157, 72, 90, 0, 107, 28, 181, 6, 144, 84, 173, 33, 63, 175, 48, 64, 148, 161, 164, 180, 158, 36, 32, 172, 130, 35, 177, 'PoolArea', 75, 5, 120, 139, 78, 124, 133, 93, 155, 171, 115, 62, 20, 15, 119, 39, 16, 60, 61, 131, 58, 85, 34, 38, 37]\n"
     ]
    }
   ],
   "source": [
    "print('\\033[1m' + 'Selected Features:\\n\\n'+ '\\033[0m', bestfeatures)"
   ]
  },
  {
   "cell_type": "markdown",
   "metadata": {},
   "source": [
    "#plot MAEX\n",
    "fig = plt.figure(figsize=(10,4))\n",
    "plt.plot(MAEX)\n",
    "plt.show()"
   ]
  },
  {
   "cell_type": "code",
   "execution_count": 211,
   "metadata": {},
   "outputs": [],
   "source": [
    "# drop low importance features\n",
    "X_TrainSelected5=OH_X_train[bestfeatures]\n",
    "X_ValidSelected5=OH_X_valid[bestfeatures]\n",
    "OH_X_testSelected=OH_df_test[bestfeatures]"
   ]
  },
  {
   "cell_type": "code",
   "execution_count": 212,
   "metadata": {},
   "outputs": [
    {
     "name": "stdout",
     "output_type": "stream",
     "text": [
      "\u001b[1mMAE from Imputation:\u001b[0m\n"
     ]
    },
    {
     "data": {
      "text/plain": [
       "565531.8700815815"
      ]
     },
     "execution_count": 212,
     "metadata": {},
     "output_type": "execute_result"
    }
   ],
   "source": [
    "MAE_dataset_lm(X_TrainSelected5, X_ValidSelected5, y_train, y_valid)"
   ]
  },
  {
   "cell_type": "code",
   "execution_count": 213,
   "metadata": {},
   "outputs": [
    {
     "name": "stdout",
     "output_type": "stream",
     "text": [
      "\u001b[1mMAE from Imputation:\u001b[0m\n"
     ]
    },
    {
     "data": {
      "text/plain": [
       "17356.78051369863"
      ]
     },
     "execution_count": 213,
     "metadata": {},
     "output_type": "execute_result"
    }
   ],
   "source": [
    "MAE_dataset_rf(X_TrainSelected5, X_ValidSelected5, y_train, y_valid)"
   ]
  },
  {
   "cell_type": "code",
   "execution_count": 301,
   "metadata": {},
   "outputs": [
    {
     "name": "stdout",
     "output_type": "stream",
     "text": [
      "\u001b[1mMAE from Imputation:\u001b[0m\n"
     ]
    },
    {
     "data": {
      "text/plain": [
       "15678.635488013699"
      ]
     },
     "execution_count": 301,
     "metadata": {},
     "output_type": "execute_result"
    }
   ],
   "source": [
    "MAE_dataset_XGB(X_TrainSelected5, X_ValidSelected5, y_train, y_valid)"
   ]
  },
  {
   "cell_type": "code",
   "execution_count": 299,
   "metadata": {},
   "outputs": [
    {
     "name": "stdout",
     "output_type": "stream",
     "text": [
      "\u001b[1mMAE from Imputation:\u001b[0m\n"
     ]
    },
    {
     "data": {
      "text/plain": [
       "15849.286699160786"
      ]
     },
     "execution_count": 299,
     "metadata": {},
     "output_type": "execute_result"
    }
   ],
   "source": [
    "MAE_dataset_cbr(X_TrainSelected5, X_ValidSelected5, y_train, y_valid)"
   ]
  },
  {
   "cell_type": "markdown",
   "metadata": {},
   "source": [
    "____"
   ]
  },
  {
   "cell_type": "markdown",
   "metadata": {},
   "source": [
    "### 5 - Set the final model with the BestFeatures founded"
   ]
  },
  {
   "cell_type": "code",
   "execution_count": 302,
   "metadata": {},
   "outputs": [
    {
     "data": {
      "text/plain": [
       "XGBRegressor(base_score=0.5, booster='gbtree', colsample_bylevel=1,\n",
       "             colsample_bynode=1, colsample_bytree=1, gamma=0,\n",
       "             importance_type='gain', learning_rate=0.05, max_delta_step=0,\n",
       "             max_depth=3, min_child_weight=1, missing=None, n_estimators=1000,\n",
       "             n_jobs=1, nthread=None, objective='reg:linear', random_state=0,\n",
       "             reg_alpha=0, reg_lambda=1, scale_pos_weight=1, seed=None,\n",
       "             silent=True, subsample=1, verbosity=1)"
      ]
     },
     "execution_count": 302,
     "metadata": {},
     "output_type": "execute_result"
    }
   ],
   "source": [
    "modelfin = XGBRegressor(n_estimators=1000, learning_rate=0.05, silent=True)\n",
    "modelfin.fit(X_TrainSelected5, y_train)"
   ]
  },
  {
   "cell_type": "code",
   "execution_count": 303,
   "metadata": {},
   "outputs": [
    {
     "data": {
      "text/plain": [
       "0.9919458435965924"
      ]
     },
     "execution_count": 303,
     "metadata": {},
     "output_type": "execute_result"
    }
   ],
   "source": [
    "#check the score on the \"train\" dataset\n",
    "modelfin.score(X_TrainSelected5, y_train)"
   ]
  },
  {
   "cell_type": "code",
   "execution_count": 304,
   "metadata": {},
   "outputs": [
    {
     "data": {
      "text/plain": [
       "0.8985758546676735"
      ]
     },
     "execution_count": 304,
     "metadata": {},
     "output_type": "execute_result"
    }
   ],
   "source": [
    "#check the score on the \"test\" dataset\n",
    "modelfin.score(X_ValidSelected5, y_valid)"
   ]
  },
  {
   "cell_type": "markdown",
   "metadata": {},
   "source": [
    "### 6 - Select Best Hiperparámeters"
   ]
  },
  {
   "cell_type": "markdown",
   "metadata": {},
   "source": [
    "# ***PENDIENTE"
   ]
  },
  {
   "cell_type": "markdown",
   "metadata": {},
   "source": [
    "#### Save predictions in format used for competition scoring"
   ]
  },
  {
   "cell_type": "code",
   "execution_count": 307,
   "metadata": {},
   "outputs": [],
   "source": [
    "#save predictions in format used for competition scoring\n",
    "\n",
    "test_preds = modelfin.predict(OH_X_testSelected)\n",
    "\n",
    "output = pd.DataFrame({'Id': df_test.Id, 'SalePrice': test_preds})\n",
    "\n",
    "output.to_csv('submission.csv', index=False)"
   ]
  },
  {
   "cell_type": "markdown",
   "metadata": {},
   "source": [
    "#### Ensure correct dimensions for submission"
   ]
  },
  {
   "cell_type": "code",
   "execution_count": 308,
   "metadata": {},
   "outputs": [],
   "source": [
    "submission = pd.read_csv('submission.csv')"
   ]
  },
  {
   "cell_type": "code",
   "execution_count": 309,
   "metadata": {},
   "outputs": [
    {
     "data": {
      "text/plain": [
       "(1459, 2)"
      ]
     },
     "execution_count": 309,
     "metadata": {},
     "output_type": "execute_result"
    }
   ],
   "source": [
    "submission.shape"
   ]
  },
  {
   "cell_type": "code",
   "execution_count": 310,
   "metadata": {},
   "outputs": [
    {
     "data": {
      "text/html": [
       "<div>\n",
       "<style scoped>\n",
       "    .dataframe tbody tr th:only-of-type {\n",
       "        vertical-align: middle;\n",
       "    }\n",
       "\n",
       "    .dataframe tbody tr th {\n",
       "        vertical-align: top;\n",
       "    }\n",
       "\n",
       "    .dataframe thead th {\n",
       "        text-align: right;\n",
       "    }\n",
       "</style>\n",
       "<table border=\"1\" class=\"dataframe\">\n",
       "  <thead>\n",
       "    <tr style=\"text-align: right;\">\n",
       "      <th></th>\n",
       "      <th>Id</th>\n",
       "      <th>SalePrice</th>\n",
       "    </tr>\n",
       "  </thead>\n",
       "  <tbody>\n",
       "    <tr>\n",
       "      <th>1454</th>\n",
       "      <td>2915</td>\n",
       "      <td>75946.266</td>\n",
       "    </tr>\n",
       "    <tr>\n",
       "      <th>1455</th>\n",
       "      <td>2916</td>\n",
       "      <td>77242.410</td>\n",
       "    </tr>\n",
       "    <tr>\n",
       "      <th>1456</th>\n",
       "      <td>2917</td>\n",
       "      <td>165450.950</td>\n",
       "    </tr>\n",
       "    <tr>\n",
       "      <th>1457</th>\n",
       "      <td>2918</td>\n",
       "      <td>114820.460</td>\n",
       "    </tr>\n",
       "    <tr>\n",
       "      <th>1458</th>\n",
       "      <td>2919</td>\n",
       "      <td>238501.170</td>\n",
       "    </tr>\n",
       "  </tbody>\n",
       "</table>\n",
       "</div>"
      ],
      "text/plain": [
       "        Id   SalePrice\n",
       "1454  2915   75946.266\n",
       "1455  2916   77242.410\n",
       "1456  2917  165450.950\n",
       "1457  2918  114820.460\n",
       "1458  2919  238501.170"
      ]
     },
     "execution_count": 310,
     "metadata": {},
     "output_type": "execute_result"
    }
   ],
   "source": [
    "submission.tail()"
   ]
  },
  {
   "cell_type": "markdown",
   "metadata": {},
   "source": [
    "____"
   ]
  }
 ],
 "metadata": {
  "kernelspec": {
   "display_name": "Python 3",
   "language": "python",
   "name": "python3"
  },
  "language_info": {
   "codemirror_mode": {
    "name": "ipython",
    "version": 3
   },
   "file_extension": ".py",
   "mimetype": "text/x-python",
   "name": "python",
   "nbconvert_exporter": "python",
   "pygments_lexer": "ipython3",
   "version": "3.7.4"
  }
 },
 "nbformat": 4,
 "nbformat_minor": 2
}
