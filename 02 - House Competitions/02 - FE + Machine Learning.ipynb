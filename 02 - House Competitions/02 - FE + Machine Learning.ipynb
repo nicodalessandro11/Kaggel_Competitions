{
 "cells": [
  {
   "cell_type": "markdown",
   "metadata": {},
   "source": [
    "# House Prices: Advanced Regression Techniques\n",
    "\n",
    "Predict sales prices and practice feature engineering, RFs, and gradient boosting"
   ]
  },
  {
   "cell_type": "markdown",
   "metadata": {},
   "source": [
    "<img src=\"housesbanner.png\"  align=\"left\" style=\"width: 600px;\"/>"
   ]
  },
  {
   "cell_type": "markdown",
   "metadata": {},
   "source": [
    "<span style=\"font-family: Courier New; background-color: #ffcc5c; color: #000000; padding: 3px; \">Performed by:</span> Nicolás D'Alessandro"
   ]
  },
  {
   "cell_type": "markdown",
   "metadata": {},
   "source": [
    "___"
   ]
  },
  {
   "cell_type": "markdown",
   "metadata": {},
   "source": [
    "## 00 - Load the required libraries"
   ]
  },
  {
   "cell_type": "code",
   "execution_count": 1,
   "metadata": {},
   "outputs": [],
   "source": [
    "import warnings\n",
    "warnings.filterwarnings('ignore')"
   ]
  },
  {
   "cell_type": "code",
   "execution_count": 10,
   "metadata": {},
   "outputs": [],
   "source": [
    "import pandas as pd\n",
    "import numpy as np\n",
    "import matplotlib.pyplot as plt\n",
    "import seaborn as sns\n",
    "import kbasics as k\n",
    "import TypeSelector as t\n",
    "\n",
    "\n",
    "from sklearn import preprocessing\n",
    "from sklearn.preprocessing import StandardScaler\n",
    "from sklearn.pipeline import Pipeline\n",
    "from sklearn.model_selection import GridSearchCV\n",
    "from sklearn.linear_model import Lasso\n",
    "import category_encoders\n",
    "from category_encoders.target_encoder import TargetEncoder\n",
    "from category_encoders.one_hot import OneHotEncoder\n",
    "from category_encoders.ordinal import OrdinalEncoder\n",
    "from sklearn.preprocessing import OneHotEncoder\n",
    "from sklearn.impute import SimpleImputer\n",
    "from sklearn.preprocessing import LabelEncoder\n",
    "from sklearn.ensemble import RandomForestClassifier\n",
    "from sklearn import linear_model\n",
    "from xgboost import XGBRegressor\n",
    "from catboost import CatBoostRegressor\n",
    "from sklearn.metrics import mean_absolute_error\n",
    "from sklearn.model_selection import train_test_split\n",
    "from sklearn.ensemble import RandomForestRegressor\n",
    "from sklearn.feature_selection import SelectKBest\n",
    "from sklearn.feature_selection import chi2"
   ]
  },
  {
   "cell_type": "markdown",
   "metadata": {},
   "source": [
    "_____"
   ]
  },
  {
   "cell_type": "markdown",
   "metadata": {},
   "source": [
    "## 00 - Create the required libraries"
   ]
  },
  {
   "cell_type": "code",
   "execution_count": 3,
   "metadata": {},
   "outputs": [],
   "source": [
    "def MAE_dataset_lm(X_train, X_valid, y_train, y_valid):\n",
    "    '''\n",
    "            This function displays the MAE for the given datasets:\n",
    "        >>> Parameter 1: [DataFrame] X_train.\n",
    "        >>> Parameter 2: [DataFrame] X_valid.\n",
    "        >>> Parameter 3: [DataFrame] y_train.\n",
    "        >>> Parameter 4: [DataFrame] y_valid.\n",
    "        ------------------------------------------------\n",
    "        <<< Return: MAE on top of the given predictions. -\n",
    "        '''\n",
    "    \n",
    "    lm = linear_model.LinearRegression()\n",
    "    lm.fit(X_train, y_train)\n",
    "    preds_lm = lm.predict(X_valid)\n",
    "    \n",
    "    print('\\033[1m' + 'MAE from Imputation:'+ '\\033[0m')\n",
    "    \n",
    "    return mean_absolute_error(y_valid, preds_lm)\n",
    "\n",
    "\n",
    "def MAE_dataset_rf(X_train, X_valid, y_train, y_valid):\n",
    "    '''\n",
    "            This function displays the MAE for the given datasets:\n",
    "        >>> Parameter 1: [DataFrame] X_train.\n",
    "        >>> Parameter 2: [DataFrame] X_valid.\n",
    "        >>> Parameter 3: [DataFrame] y_train.\n",
    "        >>> Parameter 4: [DataFrame] y_valid.\n",
    "        ------------------------------------------------\n",
    "        <<< Return: MAE on top of the given predictions. -\n",
    "        '''\n",
    "    rf = RandomForestRegressor(n_estimators=100, random_state=0)\n",
    "    rf.fit(X_train, y_train)\n",
    "    preds_rf = rf.predict(X_valid)\n",
    "    \n",
    "    print('\\033[1m' + 'MAE from Imputation:'+ '\\033[0m')\n",
    "    \n",
    "    return mean_absolute_error(y_valid, preds_rf)\n",
    "\n",
    "def MAE_dataset_XGB(X_train, X_valid, y_train, y_valid):\n",
    "    '''\n",
    "            This function displays the MAE for the given datasets:\n",
    "        >>> Parameter 1: [DataFrame] X_train\n",
    "        >>> Parameter 2: [DataFrame] X_valid.\n",
    "        >>> Parameter 3: [DataFrame] y_train.\n",
    "        >>> Parameter 4: [DataFrame] y_valid.\n",
    "        ------------------------------------------------\n",
    "        <<< Return: MAE on top of the given predictions. -\n",
    "    '''\n",
    "    XGB = XGBRegressor(n_estimators=1000, learning_rate=0.05, silent=True)\n",
    "    XGB.fit(X_train, y_train)\n",
    "    preds_XGB = XGB.predict(X_valid)\n",
    "    \n",
    "    print('\\033[1m' + 'MAE from Imputation:'+ '\\033[0m')\n",
    "    \n",
    "    return mean_absolute_error(y_valid, preds_XGB)\n",
    "\n",
    "def MAE_dataset_cbr(X_train, X_valid, y_train, y_valid):\n",
    "    '''\n",
    "            This function displays the MAE for the given datasets:\n",
    "        >>> Parameter 1: [DataFrame] X_train\n",
    "        >>> Parameter 2: [DataFrame] X_valid.\n",
    "        >>> Parameter 3: [DataFrame] y_train.\n",
    "        >>> Parameter 4: [DataFrame] y_valid.\n",
    "        ------------------------------------------------\n",
    "        <<< Return: MAE on top of the given predictions. -\n",
    "    '''\n",
    "    cbr = CatBoostRegressor(verbose=False)\n",
    "    cbr.fit(X_train, y_train)\n",
    "    preds_cbr = cbr.predict(X_valid)\n",
    "    \n",
    "    print('\\033[1m' + 'MAE from Imputation:'+ '\\033[0m')\n",
    "    \n",
    "    return mean_absolute_error(y_valid, preds_cbr)"
   ]
  },
  {
   "cell_type": "markdown",
   "metadata": {},
   "source": [
    "## 01 - Fetch dataset"
   ]
  },
  {
   "cell_type": "code",
   "execution_count": 4,
   "metadata": {},
   "outputs": [],
   "source": [
    "df = pd.read_csv('full.csv')"
   ]
  },
  {
   "cell_type": "code",
   "execution_count": 5,
   "metadata": {},
   "outputs": [],
   "source": [
    "train = df[df['is_train']==1]\n",
    "test = df[df['is_train']==0]"
   ]
  },
  {
   "cell_type": "markdown",
   "metadata": {},
   "source": [
    "## 02 - Train test split"
   ]
  },
  {
   "cell_type": "code",
   "execution_count": 6,
   "metadata": {},
   "outputs": [],
   "source": [
    "X_train, X_valid, y_train, y_valid = train_test_split(train.drop(columns='saleprice'),\n",
    "                                                      train.saleprice,random_state=0)"
   ]
  },
  {
   "cell_type": "code",
   "execution_count": 7,
   "metadata": {},
   "outputs": [
    {
     "data": {
      "text/plain": [
       "(1095, 76)"
      ]
     },
     "execution_count": 7,
     "metadata": {},
     "output_type": "execute_result"
    }
   ],
   "source": [
    "X_train.shape"
   ]
  },
  {
   "cell_type": "code",
   "execution_count": 8,
   "metadata": {},
   "outputs": [
    {
     "data": {
      "text/plain": [
       "(365, 76)"
      ]
     },
     "execution_count": 8,
     "metadata": {},
     "output_type": "execute_result"
    }
   ],
   "source": [
    "X_valid.shape"
   ]
  },
  {
   "cell_type": "markdown",
   "metadata": {},
   "source": [
    "## 03 - Create & Evaluate Models"
   ]
  },
  {
   "cell_type": "code",
   "execution_count": 17,
   "metadata": {},
   "outputs": [],
   "source": [
    "cols_ohe = ['street','utilities']\n",
    "cols_te = ['street','fence']"
   ]
  },
  {
   "cell_type": "code",
   "execution_count": 24,
   "metadata": {},
   "outputs": [],
   "source": [
    "ohe = t.Encodings(encoding_type=\"OneHotEncoder\",columns=cols_ohe)\n",
    "cbe = t.Encodings(encoding_type=\"CatBoostEncoder\",columns=cols_te)\n",
    "woe = t.Encodings(encoding_type=\"WOEEncoder\",columns=cols_ohe)\n",
    "\n",
    "clf = Lasso()\n",
    "scaler = StandardScaler()\n",
    "\n",
    "\n",
    "encodings = Pipeline([('ohe',ohe),\n",
    "                      ('cbe',cbe),\n",
    "                      ('woe', woe)\n",
    "                     ])\n",
    "\n",
    "pipe_clf = Pipeline([\n",
    "    ('encodings',encodings),\n",
    "    ('selector', t.TypeSelector(np.number)), # Selects Numerical Columns only\n",
    "                    ('clf',clf)\n",
    "                   ])\n",
    "\n",
    "pipeline_grid = {\n",
    "    \"clf__alpha\":np.linspace(0.0001,2,20),\n",
    "        }"
   ]
  },
  {
   "cell_type": "code",
   "execution_count": 22,
   "metadata": {},
   "outputs": [],
   "source": [
    "pipe_cv = GridSearchCV(pipe_clf, param_grid=pipeline_grid, n_jobs = -1, cv=3)"
   ]
  },
  {
   "cell_type": "code",
   "execution_count": 25,
   "metadata": {
    "scrolled": true
   },
   "outputs": [],
   "source": [
    "#pipe_cv.fit(X_train, y_train)"
   ]
  },
  {
   "cell_type": "code",
   "execution_count": null,
   "metadata": {},
   "outputs": [],
   "source": [
    "pd.DataFrame(pipe_cv.cv_results_)"
   ]
  },
  {
   "cell_type": "code",
   "execution_count": null,
   "metadata": {},
   "outputs": [],
   "source": [
    "best_model = pipe_cv.best_estimator_.fit(X_train, y_train)"
   ]
  },
  {
   "cell_type": "code",
   "execution_count": null,
   "metadata": {},
   "outputs": [],
   "source": [
    "preds_cbr = best_model.predict(X_valid)"
   ]
  },
  {
   "cell_type": "code",
   "execution_count": null,
   "metadata": {},
   "outputs": [],
   "source": [
    "MSE = mean_squared_error(preds_cbr, y_valid, squared=True)\n",
    "RMSE = mean_squared_error(preds_cbr, y_valid, squared=False)"
   ]
  },
  {
   "cell_type": "code",
   "execution_count": null,
   "metadata": {},
   "outputs": [],
   "source": [
    "MSE "
   ]
  },
  {
   "cell_type": "code",
   "execution_count": null,
   "metadata": {},
   "outputs": [],
   "source": [
    "RMSE"
   ]
  },
  {
   "cell_type": "code",
   "execution_count": null,
   "metadata": {},
   "outputs": [],
   "source": [
    "mean_squared_error(np.log(preds_cbr), np.log(y_valid), squared=False)"
   ]
  },
  {
   "cell_type": "markdown",
   "metadata": {},
   "source": [
    "# Predictions"
   ]
  },
  {
   "cell_type": "code",
   "execution_count": null,
   "metadata": {},
   "outputs": [],
   "source": [
    "sample = pd.read_csv('submission.csv')"
   ]
  },
  {
   "cell_type": "code",
   "execution_count": null,
   "metadata": {},
   "outputs": [],
   "source": [
    "sample['saleprice'] = cbr.predict(test)"
   ]
  },
  {
   "cell_type": "code",
   "execution_count": null,
   "metadata": {},
   "outputs": [],
   "source": [
    "sample.to_csv('30Jansubm_2.csv',index=False)"
   ]
  },
  {
   "cell_type": "markdown",
   "metadata": {},
   "source": [
    "___"
   ]
  }
 ],
 "metadata": {
  "kernelspec": {
   "display_name": "Python 3",
   "language": "python",
   "name": "python3"
  },
  "language_info": {
   "codemirror_mode": {
    "name": "ipython",
    "version": 3
   },
   "file_extension": ".py",
   "mimetype": "text/x-python",
   "name": "python",
   "nbconvert_exporter": "python",
   "pygments_lexer": "ipython3",
   "version": "3.7.4"
  }
 },
 "nbformat": 4,
 "nbformat_minor": 2
}
